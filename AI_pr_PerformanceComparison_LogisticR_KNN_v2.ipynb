{
  "nbformat": 4,
  "nbformat_minor": 0,
  "metadata": {
    "colab": {
      "name": "AI-pr-PerformanceComparison-LogisticR-KNN.ipynb",
      "provenance": [],
      "collapsed_sections": []
    },
    "kernelspec": {
      "name": "python3",
      "display_name": "Python 3"
    },
    "language_info": {
      "name": "python"
    }
  },
  "cells": [
    {
      "cell_type": "code",
      "execution_count": 39,
      "metadata": {
        "id": "j_WUkFKn-sYy"
      },
      "outputs": [],
      "source": [
        "import matplotlib.pyplot as plt\n",
        "import numpy as np\n",
        "import csv\n",
        "\n",
        "from sklearn.model_selection import train_test_split\n",
        "from sklearn.linear_model import LogisticRegression\n",
        "from sklearn.model_selection import cross_val_score\n",
        "from sklearn.neighbors import KNeighborsClassifier\n",
        "from sklearn.model_selection import RepeatedKFold\n",
        "from sklearn.metrics import accuracy_score\n",
        "from numpy import mean"
      ]
    },
    {
      "cell_type": "code",
      "source": [
        "file = open(\"heart.csv\", 'r')\n",
        "csv_reader = csv.reader(file)\n",
        "\n",
        "header = next(csv_reader)\n",
        "#print(header)\n",
        "\n",
        "X, y = [], []\n",
        "for features in csv_reader:\n",
        "  y.append(features.pop(-1))\n",
        "  X.append(features)\n",
        "\n",
        "X = np.array(X, dtype=float)\n",
        "y = np.array(y, dtype=float)"
      ],
      "metadata": {
        "id": "FEDU1dtb05GZ"
      },
      "execution_count": 40,
      "outputs": []
    },
    {
      "cell_type": "code",
      "source": [
        "lst_y_pred_logR, lst_y_pred_KNN, lst_y_test = [], [], []\n",
        "iterations = 10\n",
        "\n",
        "for _ in range(iterations):\n",
        "  model_logR = LogisticRegression(max_iter=2000, fit_intercept=True)\n",
        "  model_logR.fit(X, y);\n",
        "\n",
        "  model_KNN = KNeighborsClassifier(n_neighbors=5)\n",
        "  model_KNN.fit(X, y);\n",
        "\n",
        "  y_pred_logR = model_logR.predict(X)\n",
        "  y_pred_KNN = model_KNN.predict(X)\n",
        "\n",
        "  lst_y_pred_logR.append(y_pred_logR)\n",
        "  lst_y_pred_KNN.append(y_pred_KNN)\n",
        "  lst_y_test.append(y)\n",
        "\n",
        "\n",
        "accuracy_logR = 0\n",
        "accuracy_KNN = 0\n",
        "\n",
        "for i in range(iterations):\n",
        "  accuracy_logR += accuracy_score(lst_y_test[i], lst_y_pred_logR[i])\n",
        "  accuracy_KNN += accuracy_score(lst_y_test[i], lst_y_pred_KNN[i])\n",
        "\n",
        "print(\"LogR Accuracy (Basic without split) = %.3f\" % (accuracy_logR/iterations))\n",
        "print(\"KNN Accuracy (Basic without split) = %.3f\" % (accuracy_KNN/iterations))"
      ],
      "metadata": {
        "colab": {
          "base_uri": "https://localhost:8080/"
        },
        "id": "R-oFut3RUGUf",
        "outputId": "ed30b113-09e9-40ac-96e8-9a5cf8e8b09e"
      },
      "execution_count": 41,
      "outputs": [
        {
          "output_type": "stream",
          "name": "stdout",
          "text": [
            "LogR Accuracy (Basic without split) = 0.848\n",
            "KNN Accuracy (Basic without split) = 0.766\n"
          ]
        }
      ]
    },
    {
      "cell_type": "code",
      "source": [
        "lst_y_pred_logR, lst_y_pred_KNN, lst_y_test = [], [], []\n",
        "iterations = 10\n",
        "\n",
        "for _ in range(iterations):\n",
        "  X_train, X_test, y_train, y_test = train_test_split(X, y,\n",
        "                                                    test_size=0.20,\n",
        "                                                    shuffle=True,\n",
        "                                                    stratify=y)\n",
        "  \n",
        "  model_logR = LogisticRegression(max_iter=2000, fit_intercept=True)\n",
        "  model_logR.fit(X_train, y_train);\n",
        "\n",
        "  model_KNN = KNeighborsClassifier(n_neighbors=5)\n",
        "  model_KNN.fit(X_train, y_train);\n",
        "\n",
        "  y_pred_logR = model_logR.predict(X_test)\n",
        "  y_pred_KNN = model_KNN.predict(X_test)\n",
        "\n",
        "  lst_y_pred_logR.append(y_pred_logR)\n",
        "  lst_y_pred_KNN.append(y_pred_KNN)\n",
        "  lst_y_test.append(y_test)\n",
        "\n",
        "\n",
        "accuracy_logR = 0\n",
        "accuracy_KNN = 0\n",
        "\n",
        "for i in range(iterations):\n",
        "  accuracy_logR += accuracy_score(lst_y_test[i], lst_y_pred_logR[i])\n",
        "  accuracy_KNN += accuracy_score(lst_y_test[i], lst_y_pred_KNN[i])\n",
        "\n",
        "print(\"LogR Accuracy (with Train and Test split) = %.3f\" % (accuracy_logR/iterations))\n",
        "print(\"KNN Accuracy (with Train and Test split) = %.3f\" % (accuracy_KNN/iterations))"
      ],
      "metadata": {
        "id": "xIjnDxUE05JX",
        "colab": {
          "base_uri": "https://localhost:8080/"
        },
        "outputId": "fdccdbbc-5a7f-458c-aec0-73eebbe9ae43"
      },
      "execution_count": 42,
      "outputs": [
        {
          "output_type": "stream",
          "name": "stdout",
          "text": [
            "LogR Accuracy (with Train and Test split) = 0.821\n",
            "KNN Accuracy (with Train and Test split) = 0.641\n"
          ]
        }
      ]
    },
    {
      "cell_type": "code",
      "source": [
        "# prepare the cross-validation procedure\n",
        "cv = RepeatedKFold(n_splits=10, n_repeats=10, random_state=1)\n",
        "\n",
        "# creating models\n",
        "model_logR = LogisticRegression(max_iter=2000, fit_intercept=True)\n",
        "model_KNN = KNeighborsClassifier(n_neighbors=5)\n",
        "\n",
        "# evaluate model\n",
        "scores_logR = cross_val_score(model_logR, X, y, scoring='accuracy', cv=cv, n_jobs=-1)\n",
        "scores_KNN = cross_val_score(model_KNN, X, y, scoring='accuracy', cv=cv, n_jobs=-1)\n",
        "\n",
        "# report performance\n",
        "print(\"LogR Accuracy (with RepeatedKFold) = %.3f\" % (mean(scores_logR)))\n",
        "print(\"KNN Accuracy (with RepeatedKFold) = %.3f\" % (mean(scores_KNN)))"
      ],
      "metadata": {
        "id": "wVa1WQOo3kwk",
        "colab": {
          "base_uri": "https://localhost:8080/"
        },
        "outputId": "da017af0-1eb4-4dbb-9d02-fc39c04b3552"
      },
      "execution_count": 43,
      "outputs": [
        {
          "output_type": "stream",
          "name": "stdout",
          "text": [
            "LogR Accuracy (with RepeatedKFold) = 0.831\n",
            "KNN Accuracy (with RepeatedKFold) = 0.648\n"
          ]
        }
      ]
    }
  ]
}