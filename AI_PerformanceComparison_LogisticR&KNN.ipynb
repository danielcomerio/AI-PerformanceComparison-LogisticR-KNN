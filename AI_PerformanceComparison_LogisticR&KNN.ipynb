{
  "nbformat": 4,
  "nbformat_minor": 0,
  "metadata": {
    "colab": {
      "name": "AI-PerformanceComparison-LogisticR&KNN.ipynb",
      "provenance": [],
      "collapsed_sections": []
    },
    "kernelspec": {
      "name": "python3",
      "display_name": "Python 3"
    },
    "language_info": {
      "name": "python"
    }
  },
  "cells": [
    {
      "cell_type": "code",
      "execution_count": 279,
      "metadata": {
        "id": "BzIU-MQMrcxz"
      },
      "outputs": [],
      "source": [
        "import matplotlib.pyplot as plt\n",
        "import numpy as np\n",
        "import csv\n",
        "\n",
        "from sklearn.metrics import mean_squared_error, accuracy_score, confusion_matrix\n",
        "from sklearn.model_selection import train_test_split\n",
        "from sklearn.linear_model import LogisticRegression\n",
        "from sklearn.neighbors import KNeighborsClassifier"
      ]
    },
    {
      "cell_type": "code",
      "source": [
        "file = open(\"heart.csv\", 'r')\n",
        "csv_reader = csv.reader(file)\n",
        "\n",
        "header = next(csv_reader)\n",
        "#print(header)\n",
        "\n",
        "X, y = [], []\n",
        "for features in csv_reader:\n",
        "  y.append(features.pop(-1))\n",
        "  X.append(features)\n",
        "\n",
        "X = np.array(X, dtype=float)\n",
        "y = np.array(y, dtype=float)"
      ],
      "metadata": {
        "id": "ueN0hOxZrzw5"
      },
      "execution_count": 280,
      "outputs": []
    },
    {
      "cell_type": "code",
      "source": [
        "model_logR = LogisticRegression(max_iter=1000,\n",
        "                                fit_intercept=True)\n",
        "model_logR.fit(X, y)"
      ],
      "metadata": {
        "colab": {
          "base_uri": "https://localhost:8080/"
        },
        "id": "-rOaMBXxrzzl",
        "outputId": "b59438bf-fe64-4b48-fb96-5ddd0d46d84b"
      },
      "execution_count": 281,
      "outputs": [
        {
          "output_type": "execute_result",
          "data": {
            "text/plain": [
              "LogisticRegression(max_iter=1000)"
            ]
          },
          "metadata": {},
          "execution_count": 281
        }
      ]
    },
    {
      "cell_type": "code",
      "source": [
        "model_KNN = KNeighborsClassifier(n_neighbors=5)\n",
        "model_KNN.fit(X, y);"
      ],
      "metadata": {
        "id": "iYQUsaEBrz2U"
      },
      "execution_count": 282,
      "outputs": []
    },
    {
      "cell_type": "code",
      "source": [
        "y_pred_logR = model_logR.predict(X)\n",
        "y_pred_KNN = model_KNN.predict(X)"
      ],
      "metadata": {
        "id": "mAfeTuwJrz5v"
      },
      "execution_count": 283,
      "outputs": []
    },
    {
      "cell_type": "code",
      "source": [
        "lst_mse_logR, lst_mse_KNN = [], []\n",
        "iterations = 10\n",
        "for _ in range(iterations):\n",
        "  lst_mse_logR.append(mean_squared_error(y, y_pred_logR))\n",
        "  lst_mse_KNN.append(mean_squared_error(y, y_pred_KNN))\n",
        "\n",
        "mse_logR = np.sum(lst_mse_logR)/len(lst_mse_logR)\n",
        "mse_KNN = np.sum(lst_mse_KNN)/len(lst_mse_KNN)\n",
        "\n",
        "print(\"LogR Error with MSE = \", mse_logR)\n",
        "print(\"KNN Error with MSE  = \", mse_KNN)"
      ],
      "metadata": {
        "colab": {
          "base_uri": "https://localhost:8080/"
        },
        "id": "euIjDjbvxQB2",
        "outputId": "63d0f89d-da90-4de6-8e6f-fb08ec8f5615"
      },
      "execution_count": 284,
      "outputs": [
        {
          "output_type": "stream",
          "name": "stdout",
          "text": [
            "LogR Error with MSE =  0.15181518151815182\n",
            "KNN Error with MSE  =  0.23432343234323433\n"
          ]
        }
      ]
    },
    {
      "cell_type": "code",
      "source": [
        "lst_rmse_logR, lst_rmse_KNN = [], []\n",
        "iterations = 10\n",
        "for _ in range(iterations):\n",
        "  lst_rmse_logR.append(mean_squared_error(y, y_pred_logR, squared=False))\n",
        "  lst_rmse_KNN.append(mean_squared_error(y, y_pred_KNN, squared=False))\n",
        "\n",
        "rmse_logR = np.sum(lst_rmse_logR)/len(lst_rmse_logR)\n",
        "rmse_KNN = np.sum(lst_rmse_KNN)/len(lst_rmse_KNN)\n",
        "\n",
        "print(\"LogR Error with RMSE = \", rmse_logR)\n",
        "print(\"KNN Error with RMSE  = \", rmse_KNN)"
      ],
      "metadata": {
        "colab": {
          "base_uri": "https://localhost:8080/"
        },
        "id": "iOMsXkrdxQQm",
        "outputId": "4accd71b-25c2-40b3-dd60-34e0f222e665"
      },
      "execution_count": 285,
      "outputs": [
        {
          "output_type": "stream",
          "name": "stdout",
          "text": [
            "LogR Error with RMSE =  0.3896346769964807\n",
            "KNN Error with RMSE  =  0.4840696564991802\n"
          ]
        }
      ]
    },
    {
      "cell_type": "code",
      "source": [
        "lst_acurracy_logR, lst_accuracy_KNN = [], []\n",
        "iterations = 10\n",
        "for _ in range(iterations):\n",
        "  lst_acurracy_logR.append(accuracy_score(y, y_pred_logR))\n",
        "  lst_accuracy_KNN.append(accuracy_score(y, y_pred_KNN))\n",
        "\n",
        "accuracy_logR = np.sum(lst_acurracy_logR)/len(lst_acurracy_logR)\n",
        "accuracy_KNN = np.sum(lst_accuracy_KNN)/len(lst_accuracy_KNN)\n",
        "\n",
        "print(\"LogR Accuracy = \", accuracy_logR)\n",
        "print(\"KNN Accuracy  = \", accuracy_KNN)"
      ],
      "metadata": {
        "colab": {
          "base_uri": "https://localhost:8080/"
        },
        "id": "Sjokntln5VOL",
        "outputId": "7362e00f-73ee-4ac6-9c3f-1a9de334cc5f"
      },
      "execution_count": 286,
      "outputs": [
        {
          "output_type": "stream",
          "name": "stdout",
          "text": [
            "LogR Accuracy =  0.8481848184818481\n",
            "KNN Accuracy  =  0.7656765676567658\n"
          ]
        }
      ]
    },
    {
      "cell_type": "code",
      "source": [
        "cmat_logR = confusion_matrix(y, y_pred_logR)\n",
        "cmat_KNN = confusion_matrix(y, y_pred_KNN)\n",
        "\n",
        "print(\"LogR Confusion Matrix\\n\", cmat_logR)\n",
        "print()\n",
        "print(\"KNN Confusion Matrix\\n\", cmat_KNN)"
      ],
      "metadata": {
        "colab": {
          "base_uri": "https://localhost:8080/"
        },
        "id": "WmBuawEL6Phb",
        "outputId": "01b9878b-0ea6-4618-b7cf-3bbde278495f"
      },
      "execution_count": 287,
      "outputs": [
        {
          "output_type": "stream",
          "name": "stdout",
          "text": [
            "LogR Confusion Matrix\n",
            " [[105  33]\n",
            " [ 13 152]]\n",
            "\n",
            "KNN Confusion Matrix\n",
            " [[ 99  39]\n",
            " [ 32 133]]\n"
          ]
        }
      ]
    }
  ]
}