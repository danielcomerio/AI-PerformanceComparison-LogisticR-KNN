{
  "nbformat": 4,
  "nbformat_minor": 0,
  "metadata": {
    "colab": {
      "name": "AI-PerformanceComparison-LogisticR&KNN.ipynb",
      "provenance": [],
      "collapsed_sections": []
    },
    "kernelspec": {
      "name": "python3",
      "display_name": "Python 3"
    },
    "language_info": {
      "name": "python"
    }
  },
  "cells": [
    {
      "cell_type": "code",
      "execution_count": 398,
      "metadata": {
        "id": "BzIU-MQMrcxz"
      },
      "outputs": [],
      "source": [
        "import matplotlib.pyplot as plt\n",
        "import numpy as np\n",
        "import csv\n",
        "\n",
        "from sklearn.metrics import mean_squared_error, accuracy_score, confusion_matrix\n",
        "from sklearn.model_selection import train_test_split\n",
        "from sklearn.linear_model import LogisticRegression\n",
        "from sklearn.neighbors import KNeighborsClassifier"
      ]
    },
    {
      "cell_type": "code",
      "source": [
        "file = open(\"heart.csv\", 'r')\n",
        "csv_reader = csv.reader(file)\n",
        "\n",
        "header = next(csv_reader)\n",
        "#print(header)\n",
        "\n",
        "X, y = [], []\n",
        "for features in csv_reader:\n",
        "  y.append(features.pop(-1))\n",
        "  X.append(features)\n",
        "\n",
        "X = np.array(X, dtype=float)\n",
        "y = np.array(y, dtype=float)"
      ],
      "metadata": {
        "id": "ueN0hOxZrzw5"
      },
      "execution_count": 399,
      "outputs": []
    },
    {
      "cell_type": "code",
      "source": [
        "lst_y_pred_logR, lst_y_pred_KNN, lst_y_test = [], [], []\n",
        "iterations = 10\n",
        "\n",
        "for _ in range(iterations):\n",
        "  X_train, X_test, y_train, y_test = train_test_split(X, y,\n",
        "                                                    test_size=0.20,\n",
        "                                                    shuffle=True,\n",
        "                                                    stratify=y)\n",
        "  \n",
        "  model_logR = LogisticRegression(max_iter=1000, fit_intercept=True)\n",
        "  model_logR.fit(X_train, y_train);\n",
        "\n",
        "  model_KNN = KNeighborsClassifier(n_neighbors=5)\n",
        "  model_KNN.fit(X_train, y_train);\n",
        "\n",
        "  y_pred_logR = model_logR.predict(X_test)\n",
        "  y_pred_KNN = model_KNN.predict(X_test)\n",
        "\n",
        "  lst_y_pred_logR.append(y_pred_logR)\n",
        "  lst_y_pred_KNN.append(y_pred_KNN)\n",
        "  lst_y_test.append(y_test)"
      ],
      "metadata": {
        "id": "iYQUsaEBrz2U"
      },
      "execution_count": 400,
      "outputs": []
    },
    {
      "cell_type": "code",
      "source": [
        "mse_logR = 0\n",
        "mse_KNN = 0\n",
        "\n",
        "rmse_logR = 0\n",
        "rmse_KNN = 0\n",
        "\n",
        "accuracy_logR = 0\n",
        "accuracy_KNN = 0\n",
        "\n",
        "for i in range(iterations):\n",
        "  mse_logR += mean_squared_error(lst_y_test[i], lst_y_pred_logR[i])\n",
        "  mse_KNN += mean_squared_error(lst_y_test[i], lst_y_pred_KNN[i])\n",
        "\n",
        "  rmse_logR += mean_squared_error(lst_y_test[i], lst_y_pred_logR[i], squared=False)\n",
        "  rmse_KNN += mean_squared_error(lst_y_test[i], lst_y_pred_KNN[i], squared=False)\n",
        "\n",
        "  accuracy_logR += accuracy_score(lst_y_test[i], lst_y_pred_logR[i])\n",
        "  accuracy_KNN += accuracy_score(lst_y_test[i], lst_y_pred_KNN[i])\n",
        "\n",
        "\n",
        "print(\"LogR Error with MSE = \", mse_logR/iterations)\n",
        "print(\"KNN Error with MSE  = \", mse_KNN/iterations, '\\n\\n')\n",
        "\n",
        "print(\"LogR Error with RMSE = \", rmse_logR/iterations)\n",
        "print(\"KNN Error with RMSE  = \", rmse_KNN/iterations, '\\n\\n')\n",
        "\n",
        "print(\"LogR Accuracy = \", accuracy_logR/iterations)\n",
        "print(\"KNN Accuracy  = \", accuracy_KNN/iterations, '\\n\\n')\n",
        "\n",
        "print(\"LogR Confusion Matrix (results over iteration 0)\\n\", confusion_matrix(lst_y_test[0], lst_y_pred_logR[0]), '\\n')\n",
        "print(\"KNN Confusion Matrix (results over iteration 0)\\n\", confusion_matrix(lst_y_test[0], lst_y_pred_KNN[0]))"
      ],
      "metadata": {
        "colab": {
          "base_uri": "https://localhost:8080/"
        },
        "id": "D0ng9A1qGZ-a",
        "outputId": "59080902-42ac-4ca7-aa09-8bace35fda34"
      },
      "execution_count": 401,
      "outputs": [
        {
          "output_type": "stream",
          "name": "stdout",
          "text": [
            "LogR Error with MSE =  0.15901639344262294\n",
            "KNN Error with MSE  =  0.34590163934426227 \n",
            "\n",
            "\n",
            "LogR Error with RMSE =  0.394450867610488\n",
            "KNN Error with RMSE  =  0.585992525469997 \n",
            "\n",
            "\n",
            "LogR Accuracy =  0.840983606557377\n",
            "KNN Accuracy  =  0.6540983606557377 \n",
            "\n",
            "\n",
            "LogR Confusion Matrix (results over iteration 0)\n",
            " [[21  7]\n",
            " [ 2 31]] \n",
            "\n",
            "KNN Confusion Matrix (results over iteration 0)\n",
            " [[16 12]\n",
            " [ 8 25]]\n"
          ]
        }
      ]
    }
  ]
}